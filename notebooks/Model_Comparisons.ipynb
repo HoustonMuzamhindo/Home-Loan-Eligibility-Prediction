{
 "cells": [
  {
   "cell_type": "code",
   "execution_count": 43,
   "id": "4a87ae16",
   "metadata": {},
   "outputs": [
    {
     "data": {
      "application/javascript": [
       "IPython.OutputArea.prototype._should_scroll = function(lines) {\n",
       "    return false;\n",
       "}\n"
      ],
      "text/plain": [
       "<IPython.core.display.Javascript object>"
      ]
     },
     "metadata": {},
     "output_type": "display_data"
    }
   ],
   "source": [
    "%%javascript\n",
    "IPython.OutputArea.prototype._should_scroll = function(lines) {\n",
    "    return false;\n",
    "}"
   ]
  },
  {
   "cell_type": "code",
   "execution_count": 44,
   "id": "8b492203",
   "metadata": {},
   "outputs": [],
   "source": [
    "#import main packages \n",
    "import numpy as np\n",
    "import pandas as pd\n",
    "import matplotlib.pyplot as plt\n",
    "import plotly.express as px\n",
    "\n",
    "import matplotlib.pyplot as plt\n",
    "import scikitplot as skplt"
   ]
  },
  {
   "cell_type": "code",
   "execution_count": 45,
   "id": "dec24c8f",
   "metadata": {},
   "outputs": [],
   "source": [
    "pd.set_option('display.max_rows', None)\n",
    "pd.set_option('display.max_columns', None)"
   ]
  },
  {
   "cell_type": "code",
   "execution_count": 46,
   "id": "ad6dd259",
   "metadata": {},
   "outputs": [],
   "source": [
    "from collections import Counter\n",
    "import pprint\n",
    "import pickle"
   ]
  },
  {
   "cell_type": "code",
   "execution_count": 47,
   "id": "60b1f8ce",
   "metadata": {},
   "outputs": [],
   "source": [
    "#import ml models\n",
    "from sklearn.svm import SVC\n",
    "from sklearn.ensemble import GradientBoostingClassifier\n",
    "from sklearn.ensemble import RandomForestClassifier\n",
    "from sklearn.ensemble import AdaBoostClassifier\n",
    "from sklearn.tree import DecisionTreeClassifier\n",
    "from sklearn.neighbors import KNeighborsClassifier\n",
    "from sklearn.naive_bayes import GaussianNB\n",
    "from sklearn.linear_model import LogisticRegression\n",
    "import xgboost as xgb\n",
    "\n",
    "#import metrics etc\n",
    "from sklearn.model_selection import KFold, cross_val_score, train_test_split, cross_validate\n",
    "from sklearn.metrics import classification_report, confusion_matrix, f1_score, accuracy_score"
   ]
  },
  {
   "cell_type": "code",
   "execution_count": 48,
   "id": "e741b3f8",
   "metadata": {},
   "outputs": [],
   "source": [
    "#create a list of models\n",
    "models = []\n",
    "models.append((\"LR\", LogisticRegression()))\n",
    "models.append((\"RF\", RandomForestClassifier()))\n",
    "models.append((\"SVC\", SVC(probability=True)))\n",
    "models.append((\"Dtree\", DecisionTreeClassifier()))\n",
    "models.append((\"XGB\", xgb.XGBClassifier()))\n",
    "models.append((\"KNN\", KNeighborsClassifier()))\n",
    "models.append((\"Adaboost\", AdaBoostClassifier(base_estimator = None, n_estimators = 200, learning_rate = 1.0)))\n",
    "models.append((\"GradBoost\", GradientBoostingClassifier(loss = \"deviance\", n_estimators = 200)))"
   ]
  },
  {
   "cell_type": "code",
   "execution_count": 49,
   "id": "49f97df8",
   "metadata": {},
   "outputs": [],
   "source": [
    "#metrics we will be tracking\n",
    "scoring = {\n",
    "    'accuracy' : 'accuracy',\n",
    "    'precision': 'precision_macro',\n",
    "    'recall' : 'recall_macro'\n",
    "}"
   ]
  },
  {
   "cell_type": "code",
   "execution_count": 50,
   "id": "6028bf67",
   "metadata": {},
   "outputs": [],
   "source": [
    "#import the dataset\n",
    "train = pd.read_csv(\"train_clean.csv\")"
   ]
  },
  {
   "cell_type": "code",
   "execution_count": 51,
   "id": "726e34b3",
   "metadata": {},
   "outputs": [
    {
     "data": {
      "text/html": [
       "<div>\n",
       "<style scoped>\n",
       "    .dataframe tbody tr th:only-of-type {\n",
       "        vertical-align: middle;\n",
       "    }\n",
       "\n",
       "    .dataframe tbody tr th {\n",
       "        vertical-align: top;\n",
       "    }\n",
       "\n",
       "    .dataframe thead th {\n",
       "        text-align: right;\n",
       "    }\n",
       "</style>\n",
       "<table border=\"1\" class=\"dataframe\">\n",
       "  <thead>\n",
       "    <tr style=\"text-align: right;\">\n",
       "      <th></th>\n",
       "      <th>ApplicantIncome</th>\n",
       "      <th>CoapplicantIncome</th>\n",
       "      <th>LoanAmount</th>\n",
       "      <th>Loan_Amount_Term</th>\n",
       "      <th>Loan_Status</th>\n",
       "      <th>MonthlyApplicantIncome</th>\n",
       "      <th>MonthlyCoApplicantIncome</th>\n",
       "      <th>Gender_E</th>\n",
       "      <th>Married_E</th>\n",
       "      <th>Dependents_E</th>\n",
       "      <th>Education_E</th>\n",
       "      <th>Self_Employed_E</th>\n",
       "      <th>Credit_History_E</th>\n",
       "      <th>Property_Area_E</th>\n",
       "    </tr>\n",
       "  </thead>\n",
       "  <tbody>\n",
       "    <tr>\n",
       "      <th>0</th>\n",
       "      <td>5849</td>\n",
       "      <td>0.0</td>\n",
       "      <td>128.0</td>\n",
       "      <td>360.0</td>\n",
       "      <td>1</td>\n",
       "      <td>487.416667</td>\n",
       "      <td>0.000000</td>\n",
       "      <td>3.0</td>\n",
       "      <td>1.0</td>\n",
       "      <td>4.0</td>\n",
       "      <td>2.0</td>\n",
       "      <td>2.0</td>\n",
       "      <td>3.0</td>\n",
       "      <td>2.0</td>\n",
       "    </tr>\n",
       "    <tr>\n",
       "      <th>1</th>\n",
       "      <td>4583</td>\n",
       "      <td>1508.0</td>\n",
       "      <td>128.0</td>\n",
       "      <td>360.0</td>\n",
       "      <td>0</td>\n",
       "      <td>381.916667</td>\n",
       "      <td>125.666667</td>\n",
       "      <td>3.0</td>\n",
       "      <td>2.0</td>\n",
       "      <td>2.0</td>\n",
       "      <td>2.0</td>\n",
       "      <td>2.0</td>\n",
       "      <td>3.0</td>\n",
       "      <td>1.0</td>\n",
       "    </tr>\n",
       "    <tr>\n",
       "      <th>2</th>\n",
       "      <td>3000</td>\n",
       "      <td>0.0</td>\n",
       "      <td>66.0</td>\n",
       "      <td>360.0</td>\n",
       "      <td>1</td>\n",
       "      <td>250.000000</td>\n",
       "      <td>0.000000</td>\n",
       "      <td>3.0</td>\n",
       "      <td>2.0</td>\n",
       "      <td>4.0</td>\n",
       "      <td>2.0</td>\n",
       "      <td>1.0</td>\n",
       "      <td>3.0</td>\n",
       "      <td>2.0</td>\n",
       "    </tr>\n",
       "    <tr>\n",
       "      <th>3</th>\n",
       "      <td>2583</td>\n",
       "      <td>2358.0</td>\n",
       "      <td>120.0</td>\n",
       "      <td>360.0</td>\n",
       "      <td>1</td>\n",
       "      <td>215.250000</td>\n",
       "      <td>196.500000</td>\n",
       "      <td>3.0</td>\n",
       "      <td>2.0</td>\n",
       "      <td>4.0</td>\n",
       "      <td>1.0</td>\n",
       "      <td>2.0</td>\n",
       "      <td>3.0</td>\n",
       "      <td>2.0</td>\n",
       "    </tr>\n",
       "    <tr>\n",
       "      <th>4</th>\n",
       "      <td>6000</td>\n",
       "      <td>0.0</td>\n",
       "      <td>141.0</td>\n",
       "      <td>360.0</td>\n",
       "      <td>1</td>\n",
       "      <td>500.000000</td>\n",
       "      <td>0.000000</td>\n",
       "      <td>3.0</td>\n",
       "      <td>1.0</td>\n",
       "      <td>4.0</td>\n",
       "      <td>2.0</td>\n",
       "      <td>2.0</td>\n",
       "      <td>3.0</td>\n",
       "      <td>2.0</td>\n",
       "    </tr>\n",
       "  </tbody>\n",
       "</table>\n",
       "</div>"
      ],
      "text/plain": [
       "   ApplicantIncome  CoapplicantIncome  LoanAmount  Loan_Amount_Term  \\\n",
       "0             5849                0.0       128.0             360.0   \n",
       "1             4583             1508.0       128.0             360.0   \n",
       "2             3000                0.0        66.0             360.0   \n",
       "3             2583             2358.0       120.0             360.0   \n",
       "4             6000                0.0       141.0             360.0   \n",
       "\n",
       "   Loan_Status  MonthlyApplicantIncome  MonthlyCoApplicantIncome  Gender_E  \\\n",
       "0            1              487.416667                  0.000000       3.0   \n",
       "1            0              381.916667                125.666667       3.0   \n",
       "2            1              250.000000                  0.000000       3.0   \n",
       "3            1              215.250000                196.500000       3.0   \n",
       "4            1              500.000000                  0.000000       3.0   \n",
       "\n",
       "   Married_E  Dependents_E  Education_E  Self_Employed_E  Credit_History_E  \\\n",
       "0        1.0           4.0          2.0              2.0               3.0   \n",
       "1        2.0           2.0          2.0              2.0               3.0   \n",
       "2        2.0           4.0          2.0              1.0               3.0   \n",
       "3        2.0           4.0          1.0              2.0               3.0   \n",
       "4        1.0           4.0          2.0              2.0               3.0   \n",
       "\n",
       "   Property_Area_E  \n",
       "0              2.0  \n",
       "1              1.0  \n",
       "2              2.0  \n",
       "3              2.0  \n",
       "4              2.0  "
      ]
     },
     "execution_count": 51,
     "metadata": {},
     "output_type": "execute_result"
    }
   ],
   "source": [
    "train.head()"
   ]
  },
  {
   "cell_type": "code",
   "execution_count": 52,
   "id": "1458b2b3",
   "metadata": {},
   "outputs": [],
   "source": [
    "#train test split\n",
    "X, y = train.drop('Loan_Status', axis = 1), train['Loan_Status']\n",
    "\n",
    "X_train, X_test, y_train, y_test = train_test_split(X, y, test_size = .25, shuffle = True)"
   ]
  },
  {
   "cell_type": "code",
   "execution_count": 53,
   "id": "12919259",
   "metadata": {},
   "outputs": [
    {
     "data": {
      "text/plain": [
       "(460, 13)"
      ]
     },
     "execution_count": 53,
     "metadata": {},
     "output_type": "execute_result"
    }
   ],
   "source": [
    "X_train.shape"
   ]
  },
  {
   "cell_type": "code",
   "execution_count": 54,
   "id": "eb7585a2",
   "metadata": {},
   "outputs": [
    {
     "data": {
      "text/plain": [
       "(154, 13)"
      ]
     },
     "execution_count": 54,
     "metadata": {},
     "output_type": "execute_result"
    }
   ],
   "source": [
    "X_test.shape"
   ]
  },
  {
   "cell_type": "code",
   "execution_count": 55,
   "id": "5f76679d",
   "metadata": {},
   "outputs": [
    {
     "data": {
      "text/plain": [
       "(460,)"
      ]
     },
     "execution_count": 55,
     "metadata": {},
     "output_type": "execute_result"
    }
   ],
   "source": [
    "y_train.shape"
   ]
  },
  {
   "cell_type": "code",
   "execution_count": 56,
   "id": "07fd46ff",
   "metadata": {},
   "outputs": [
    {
     "data": {
      "text/plain": [
       "(154,)"
      ]
     },
     "execution_count": 56,
     "metadata": {},
     "output_type": "execute_result"
    }
   ],
   "source": [
    "y_test.shape"
   ]
  },
  {
   "cell_type": "code",
   "execution_count": 58,
   "id": "5e1f1631",
   "metadata": {},
   "outputs": [
    {
     "name": "stdout",
     "output_type": "stream",
     "text": [
      "LR LogisticRegression()\n",
      "\n",
      "{'fit_time': array([0.06096482, 0.07096195, 0.06896091, 0.07895494, 0.07395434]),\n",
      " 'score_time': array([0.0079968 , 0.01000118, 0.01699305, 0.01599789, 0.01698947]),\n",
      " 'test_accuracy': array([0.73913043, 0.79347826, 0.84782609, 0.79347826, 0.68478261]),\n",
      " 'test_precision': array([0.71948052, 0.73694779, 0.86336336, 0.84583333, 0.66758242]),\n",
      " 'test_recall': array([0.67604167, 0.61493506, 0.77008929, 0.68171866, 0.59399076]),\n",
      " 'train_accuracy': array([0.80163043, 0.7826087 , 0.76902174, 0.7826087 , 0.8125    ]),\n",
      " 'train_precision': array([0.80885887, 0.78304835, 0.7787661 , 0.7843221 , 0.82294961]),\n",
      " 'train_recall': array([0.70172991, 0.70518459, 0.65920909, 0.68300395, 0.71477898])}\n",
      "\n",
      "[[ 25  23]\n",
      " [  4 102]]\n",
      "\n",
      "Overall test set accuracy:  0.8246753246753247\n",
      "\n",
      "              precision    recall  f1-score   support\n",
      "\n",
      "           0       0.86      0.52      0.65        48\n",
      "           1       0.82      0.96      0.88       106\n",
      "\n",
      "    accuracy                           0.82       154\n",
      "   macro avg       0.84      0.74      0.77       154\n",
      "weighted avg       0.83      0.82      0.81       154\n",
      "\n",
      "\n"
     ]
    },
    {
     "name": "stderr",
     "output_type": "stream",
     "text": [
      "C:\\Users\\hp\\AppData\\Roaming\\Python\\Python38\\site-packages\\sklearn\\linear_model\\_logistic.py:814: ConvergenceWarning: lbfgs failed to converge (status=1):\n",
      "STOP: TOTAL NO. of ITERATIONS REACHED LIMIT.\n",
      "\n",
      "Increase the number of iterations (max_iter) or scale the data as shown in:\n",
      "    https://scikit-learn.org/stable/modules/preprocessing.html\n",
      "Please also refer to the documentation for alternative solver options:\n",
      "    https://scikit-learn.org/stable/modules/linear_model.html#logistic-regression\n",
      "  n_iter_i = _check_optimize_result(\n"
     ]
    },
    {
     "data": {
      "image/png": "[encoded data removed]",
      "text/plain": [
       "<Figure size 432x288 with 1 Axes>"
      ]
     },
     "metadata": {
      "needs_background": "light"
     },
     "output_type": "display_data"
    },
    {
     "ename": "FileNotFoundError",
     "evalue": "[Errno 2] No such file or directory: '../models/LR.pkl'",
     "output_type": "error",
     "traceback": [
      "\u001b[1;31m---------------------------------------------------------------------------\u001b[0m",
      "\u001b[1;31mFileNotFoundError\u001b[0m                         Traceback (most recent call last)",
      "\u001b[1;32m<ipython-input-58-1bebf0d079e2>\u001b[0m in \u001b[0;36m<module>\u001b[1;34m\u001b[0m\n\u001b[0;32m     31\u001b[0m     \u001b[1;31m#save the pickle file of the model\u001b[0m\u001b[1;33m\u001b[0m\u001b[1;33m\u001b[0m\u001b[1;33m\u001b[0m\u001b[0m\n\u001b[0;32m     32\u001b[0m     \u001b[0mmodel_filename\u001b[0m \u001b[1;33m=\u001b[0m \u001b[1;34m\"../models/\"\u001b[0m \u001b[1;33m+\u001b[0m \u001b[0mname\u001b[0m \u001b[1;33m+\u001b[0m \u001b[1;34m\".pkl\"\u001b[0m\u001b[1;33m\u001b[0m\u001b[1;33m\u001b[0m\u001b[0m\n\u001b[1;32m---> 33\u001b[1;33m     \u001b[1;32mwith\u001b[0m \u001b[0mopen\u001b[0m\u001b[1;33m(\u001b[0m\u001b[0mmodel_filename\u001b[0m\u001b[1;33m,\u001b[0m \u001b[1;34m\"wb\"\u001b[0m\u001b[1;33m)\u001b[0m \u001b[1;32mas\u001b[0m \u001b[0mfile\u001b[0m\u001b[1;33m:\u001b[0m\u001b[1;33m\u001b[0m\u001b[1;33m\u001b[0m\u001b[0m\n\u001b[0m\u001b[0;32m     34\u001b[0m         \u001b[0mpickle\u001b[0m\u001b[1;33m.\u001b[0m\u001b[0mdump\u001b[0m\u001b[1;33m(\u001b[0m\u001b[0mfit_model\u001b[0m\u001b[1;33m,\u001b[0m \u001b[0mfile\u001b[0m\u001b[1;33m)\u001b[0m\u001b[1;33m\u001b[0m\u001b[1;33m\u001b[0m\u001b[0m\n\u001b[0;32m     35\u001b[0m     \u001b[0mfile\u001b[0m\u001b[1;33m.\u001b[0m\u001b[0mclose\u001b[0m\u001b[1;33m(\u001b[0m\u001b[1;33m)\u001b[0m\u001b[1;33m\u001b[0m\u001b[1;33m\u001b[0m\u001b[0m\n",
      "\u001b[1;31mFileNotFoundError\u001b[0m: [Errno 2] No such file or directory: '../models/LR.pkl'"
     ]
    }
   ],
   "source": [
    "#run the models\n",
    "for name, model in models:\n",
    "    \n",
    "    #create k folds\n",
    "    kfold = KFold(n_splits = 5)\n",
    "    #run cross validation\n",
    "    cv_result = cross_validate(model, X_train, y_train, cv = kfold, scoring = scoring, return_train_score = True, n_jobs = -1)\n",
    "    \n",
    "    #refit the model\n",
    "    fit_model = model.fit(X_train, y_train)\n",
    "    \n",
    "    #get some predictions from this model on the test set\n",
    "    y_pred = fit_model.predict(X_test)\n",
    "    \n",
    "    #get the probabilities\n",
    "    y_probas = fit_model.predict_proba(X_test)\n",
    "    \n",
    "    print(name, model)\n",
    "    print()\n",
    "    pprint.pprint(cv_result)\n",
    "    print()\n",
    "    print(confusion_matrix(y_test, y_pred))\n",
    "    print()\n",
    "    print(\"Overall test set accuracy: \", accuracy_score(y_test, y_pred))\n",
    "    print()\n",
    "    print(classification_report(y_test, y_pred))\n",
    "    print()\n",
    "    skplt.metrics.plot_roc(y_test, y_probas)\n",
    "    plt.show()\n",
    "    \n",
    "    #save the pickle file of the model\n",
    "    model_filename = \"../models/\" + name + \".pkl\"\n",
    "    with open(model_filename, \"wb\") as file:\n",
    "        pickle.dump(fit_model, file)\n",
    "    file.close()\n",
    "    \n",
    "    print()\n",
    "    print(\"=\"*100)"
   ]
  },
  {
   "cell_type": "code",
   "execution_count": null,
   "id": "aab6ca8f",
   "metadata": {},
   "outputs": [],
   "source": []
  }
 ],
 "metadata": {
  "kernelspec": {
   "display_name": "Python 3",
   "language": "python",
   "name": "python3"
  },
  "language_info": {
   "codemirror_mode": {
    "name": "ipython",
    "version": 3
   },
   "file_extension": ".py",
   "mimetype": "text/x-python",
   "name": "python",
   "nbconvert_exporter": "python",
   "pygments_lexer": "ipython3",
   "version": "3.8.8"
  }
 },
 "nbformat": 4,
 "nbformat_minor": 5
}
