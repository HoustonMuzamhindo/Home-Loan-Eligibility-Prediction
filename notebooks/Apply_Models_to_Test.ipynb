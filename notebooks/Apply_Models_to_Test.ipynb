{
 "cells": [
  {
   "cell_type": "code",
   "execution_count": 1,
   "id": "5f7fcf79",
   "metadata": {},
   "outputs": [
    {
     "data": {
      "application/javascript": [
       "IPython.OutputArea.prototype._should_scroll = function(lines) {\n",
       "    return false;\n",
       "}\n"
      ],
      "text/plain": [
       "<IPython.core.display.Javascript object>"
      ]
     },
     "metadata": {},
     "output_type": "display_data"
    }
   ],
   "source": [
    "%%javascript\n",
    "IPython.OutputArea.prototype._should_scroll = function(lines) {\n",
    "    return false;\n",
    "}"
   ]
  },
  {
   "cell_type": "code",
   "execution_count": 2,
   "id": "ceeb0e96",
   "metadata": {},
   "outputs": [],
   "source": [
    "#import main packages\n",
    "import os\n",
    "import glob\n",
    "import numpy as np\n",
    "import pandas as pd\n",
    "import matplotlib.pyplot as plt\n",
    "import plotly.express as px\n",
    "\n",
    "import matplotlib.pyplot as plt\n",
    "import scikitplot as skplt"
   ]
  },
  {
   "cell_type": "code",
   "execution_count": 3,
   "id": "8e9742c3",
   "metadata": {},
   "outputs": [],
   "source": [
    "from sklearn.preprocessing import StandardScaler"
   ]
  },
  {
   "cell_type": "code",
   "execution_count": 4,
   "id": "e2ca07d5",
   "metadata": {},
   "outputs": [],
   "source": [
    "pd.set_option('display.max_rows', None)\n",
    "pd.set_option('display.max_columns', None)"
   ]
  },
  {
   "cell_type": "code",
   "execution_count": 5,
   "id": "2be3fa9b",
   "metadata": {},
   "outputs": [],
   "source": [
    "from collections import Counter\n",
    "import pprint\n",
    "import pickle"
   ]
  },
  {
   "cell_type": "code",
   "execution_count": 6,
   "id": "c91ef64e",
   "metadata": {},
   "outputs": [],
   "source": [
    "#import the test dataset\n",
    "test = pd.read_csv(\"../data/test.csv\")"
   ]
  },
  {
   "cell_type": "code",
   "execution_count": 7,
   "id": "2f705c81",
   "metadata": {},
   "outputs": [
    {
     "data": {
      "text/html": [
       "<div>\n",
       "<style scoped>\n",
       "    .dataframe tbody tr th:only-of-type {\n",
       "        vertical-align: middle;\n",
       "    }\n",
       "\n",
       "    .dataframe tbody tr th {\n",
       "        vertical-align: top;\n",
       "    }\n",
       "\n",
       "    .dataframe thead th {\n",
       "        text-align: right;\n",
       "    }\n",
       "</style>\n",
       "<table border=\"1\" class=\"dataframe\">\n",
       "  <thead>\n",
       "    <tr style=\"text-align: right;\">\n",
       "      <th></th>\n",
       "      <th>Loan_ID</th>\n",
       "      <th>Gender</th>\n",
       "      <th>Married</th>\n",
       "      <th>Dependents</th>\n",
       "      <th>Education</th>\n",
       "      <th>Self_Employed</th>\n",
       "      <th>ApplicantIncome</th>\n",
       "      <th>CoapplicantIncome</th>\n",
       "      <th>LoanAmount</th>\n",
       "      <th>Loan_Amount_Term</th>\n",
       "      <th>Credit_History</th>\n",
       "      <th>Property_Area</th>\n",
       "    </tr>\n",
       "  </thead>\n",
       "  <tbody>\n",
       "    <tr>\n",
       "      <th>0</th>\n",
       "      <td>LP001015</td>\n",
       "      <td>Male</td>\n",
       "      <td>Yes</td>\n",
       "      <td>0</td>\n",
       "      <td>Graduate</td>\n",
       "      <td>No</td>\n",
       "      <td>5720</td>\n",
       "      <td>0</td>\n",
       "      <td>110.0</td>\n",
       "      <td>360.0</td>\n",
       "      <td>1.0</td>\n",
       "      <td>Urban</td>\n",
       "    </tr>\n",
       "    <tr>\n",
       "      <th>1</th>\n",
       "      <td>LP001022</td>\n",
       "      <td>Male</td>\n",
       "      <td>Yes</td>\n",
       "      <td>1</td>\n",
       "      <td>Graduate</td>\n",
       "      <td>No</td>\n",
       "      <td>3076</td>\n",
       "      <td>1500</td>\n",
       "      <td>126.0</td>\n",
       "      <td>360.0</td>\n",
       "      <td>1.0</td>\n",
       "      <td>Urban</td>\n",
       "    </tr>\n",
       "    <tr>\n",
       "      <th>2</th>\n",
       "      <td>LP001031</td>\n",
       "      <td>Male</td>\n",
       "      <td>Yes</td>\n",
       "      <td>2</td>\n",
       "      <td>Graduate</td>\n",
       "      <td>No</td>\n",
       "      <td>5000</td>\n",
       "      <td>1800</td>\n",
       "      <td>208.0</td>\n",
       "      <td>360.0</td>\n",
       "      <td>1.0</td>\n",
       "      <td>Urban</td>\n",
       "    </tr>\n",
       "    <tr>\n",
       "      <th>3</th>\n",
       "      <td>LP001035</td>\n",
       "      <td>Male</td>\n",
       "      <td>Yes</td>\n",
       "      <td>2</td>\n",
       "      <td>Graduate</td>\n",
       "      <td>No</td>\n",
       "      <td>2340</td>\n",
       "      <td>2546</td>\n",
       "      <td>100.0</td>\n",
       "      <td>360.0</td>\n",
       "      <td>NaN</td>\n",
       "      <td>Urban</td>\n",
       "    </tr>\n",
       "    <tr>\n",
       "      <th>4</th>\n",
       "      <td>LP001051</td>\n",
       "      <td>Male</td>\n",
       "      <td>No</td>\n",
       "      <td>0</td>\n",
       "      <td>Not Graduate</td>\n",
       "      <td>No</td>\n",
       "      <td>3276</td>\n",
       "      <td>0</td>\n",
       "      <td>78.0</td>\n",
       "      <td>360.0</td>\n",
       "      <td>1.0</td>\n",
       "      <td>Urban</td>\n",
       "    </tr>\n",
       "  </tbody>\n",
       "</table>\n",
       "</div>"
      ],
      "text/plain": [
       "    Loan_ID Gender Married Dependents     Education Self_Employed  \\\n",
       "0  LP001015   Male     Yes          0      Graduate            No   \n",
       "1  LP001022   Male     Yes          1      Graduate            No   \n",
       "2  LP001031   Male     Yes          2      Graduate            No   \n",
       "3  LP001035   Male     Yes          2      Graduate            No   \n",
       "4  LP001051   Male      No          0  Not Graduate            No   \n",
       "\n",
       "   ApplicantIncome  CoapplicantIncome  LoanAmount  Loan_Amount_Term  \\\n",
       "0             5720                  0       110.0             360.0   \n",
       "1             3076               1500       126.0             360.0   \n",
       "2             5000               1800       208.0             360.0   \n",
       "3             2340               2546       100.0             360.0   \n",
       "4             3276                  0        78.0             360.0   \n",
       "\n",
       "   Credit_History Property_Area  \n",
       "0             1.0         Urban  \n",
       "1             1.0         Urban  \n",
       "2             1.0         Urban  \n",
       "3             NaN         Urban  \n",
       "4             1.0         Urban  "
      ]
     },
     "execution_count": 7,
     "metadata": {},
     "output_type": "execute_result"
    }
   ],
   "source": [
    "test.head()"
   ]
  },
  {
   "cell_type": "code",
   "execution_count": 8,
   "id": "f2b4f515",
   "metadata": {},
   "outputs": [
    {
     "name": "stdout",
     "output_type": "stream",
     "text": [
      "<class 'pandas.core.frame.DataFrame'>\n",
      "RangeIndex: 367 entries, 0 to 366\n",
      "Data columns (total 12 columns):\n",
      " #   Column             Non-Null Count  Dtype  \n",
      "---  ------             --------------  -----  \n",
      " 0   Loan_ID            367 non-null    object \n",
      " 1   Gender             356 non-null    object \n",
      " 2   Married            367 non-null    object \n",
      " 3   Dependents         357 non-null    object \n",
      " 4   Education          367 non-null    object \n",
      " 5   Self_Employed      344 non-null    object \n",
      " 6   ApplicantIncome    367 non-null    int64  \n",
      " 7   CoapplicantIncome  367 non-null    int64  \n",
      " 8   LoanAmount         362 non-null    float64\n",
      " 9   Loan_Amount_Term   361 non-null    float64\n",
      " 10  Credit_History     338 non-null    float64\n",
      " 11  Property_Area      367 non-null    object \n",
      "dtypes: float64(3), int64(2), object(7)\n",
      "memory usage: 34.5+ KB\n"
     ]
    }
   ],
   "source": [
    "test.info()"
   ]
  },
  {
   "cell_type": "code",
   "execution_count": 9,
   "id": "7329ee58",
   "metadata": {},
   "outputs": [],
   "source": [
    "#change the columns to their correct types\n",
    "test['Credit_History'] = test['Credit_History'].astype('object')"
   ]
  },
  {
   "cell_type": "markdown",
   "id": "b8f95503",
   "metadata": {},
   "source": [
    "### Engineer features"
   ]
  },
  {
   "cell_type": "code",
   "execution_count": 10,
   "id": "84a4e70d",
   "metadata": {},
   "outputs": [],
   "source": [
    "#other features\n",
    "\n",
    "#total income\n",
    "test['TotalIncome'] = test['ApplicantIncome'] + test['CoapplicantIncome']\n",
    "\n",
    "#monthly income\n",
    "test['MonthlyIncome'] = test['TotalIncome'] / 12\n",
    "\n",
    "#amount is in thousands so for comparisons to income, put it back up to thousands\n",
    "test['LoanAmount'] = test['LoanAmount']  * 1000\n",
    "\n",
    "#monthly installment\n",
    "test['MonthlyInstallment'] = test['LoanAmount'] / test['Loan_Amount_Term']\n",
    "\n",
    "#affordability\n",
    "test['Affordability'] = (test['MonthlyInstallment'] < test['MonthlyIncome'])\n",
    "\n",
    "#make it a Yes or No only\n",
    "test['Affordability'] = np.where(test['Affordability'] == True, 'Yes', 'No')"
   ]
  },
  {
   "cell_type": "code",
   "execution_count": 11,
   "id": "f91ddbc8",
   "metadata": {},
   "outputs": [],
   "source": [
    "#create additional features - logarithms\n",
    "test['LogApplicantIncome'] = np.log(test['ApplicantIncome'] + 1)\n",
    "test['LogCoApplicantIncome'] = np.log(test['CoapplicantIncome'] + 1)\n",
    "test['LogLoanAmount'] = np.log(test['LoanAmount'] + 1)\n",
    "test['LogMonthlyInstallment'] = np.log(test['MonthlyInstallment'] + 1)\n",
    "test['LogMonthlyIncome'] = np.log(test['MonthlyIncome'] + 1)"
   ]
  },
  {
   "cell_type": "code",
   "execution_count": 12,
   "id": "17e9953a",
   "metadata": {},
   "outputs": [],
   "source": [
    "#replace missing values\n",
    "test['Gender'] = test['Gender'].fillna('Male')\n",
    "test['Married'] = test['Married'].fillna('Yes')\n",
    "test['Dependents'] = test['Dependents'].fillna('0')\n",
    "test['Self_Employed'] = test['Self_Employed'].fillna('No')\n",
    "test['LoanAmount'] = test['LoanAmount'].fillna(np.nanmedian(test['LoanAmount']))\n",
    "test['Loan_Amount_Term'] = test['Loan_Amount_Term'].fillna(np.nanmedian(test['Loan_Amount_Term']))\n",
    "test['Credit_History'] = test['Credit_History'].fillna(str(test['Credit_History'].mode()[0]))\n",
    "test['LogApplicantIncome'] = test['LogApplicantIncome'].fillna(np.nanmedian(test['LogApplicantIncome']))\n",
    "test['LogCoApplicantIncome'] = test['LogCoApplicantIncome'].fillna(np.nanmedian(test['LogCoApplicantIncome']))\n",
    "test['LogLoanAmount'] = test['LogLoanAmount'].fillna(np.nanmedian(test['LogLoanAmount']))\n",
    "test['LogMonthlyInstallment'] = test['LogMonthlyInstallment'].fillna(np.nanmedian(test['LogMonthlyInstallment']))\n",
    "test['LogMonthlyIncome'] = test['LogMonthlyIncome'].fillna(np.nanmedian(test['LogMonthlyIncome']))"
   ]
  },
  {
   "cell_type": "code",
   "execution_count": 13,
   "id": "ffe61b00",
   "metadata": {},
   "outputs": [],
   "source": [
    "#create new features - brackets\n",
    "test['ApplicantIncomeBracket'] = np.where(test['ApplicantIncome'] < 2800, 'Low_Applicant_Income',\n",
    "                                          np.where(test['ApplicantIncome'] < 3800, 'Medium_Applicant_Income',\n",
    "                                          np.where(test['ApplicantIncome'] < 5800, 'High_Applicant_Income', 'Affluent_Applicant_Income')))\n",
    "\n",
    "test['CoapplicantIncomeBracket'] = np.where(test['CoapplicantIncome'] < 500, 'Low_CoApplicant_Income',\n",
    "                                          np.where(test['CoapplicantIncome'] < 1100, 'Medium_CoApplicant_Income',\n",
    "                                          np.where(test['CoapplicantIncome'] < 2200, 'High_CoApplicant_Income', 'Affluent_CoApplicant_Income')))\n",
    "\n",
    "\n",
    "\n",
    "test['TotalIncomeBracket'] = np.where(test['TotalIncome'] < 4000, 'Low_Total_Income',\n",
    "                                          np.where(test['TotalIncome'] < 5500, 'Medium_Total_Income',\n",
    "                                          np.where(test['TotalIncome'] < 7500, 'High_Total_Income', 'Affluent_Total_Income')))\n",
    "\n",
    "test['LoanAmountBracket'] = np.where(test['LoanAmount'] < 100000, 'Low_Loan_Value',\n",
    "                                        np.where(test['LoanAmount'] < 130000, 'Medium_Loan_Value',\n",
    "                                        np.where(test['LoanAmount'] < 170000, 'High_Loan_Value', 'Affluent_Loan_Value')))\n"
   ]
  },
  {
   "cell_type": "code",
   "execution_count": 14,
   "id": "53d561c7",
   "metadata": {},
   "outputs": [],
   "source": [
    "#feature types\n",
    "quantitative = [f for f in test.columns if test.dtypes[f] != 'object']\n",
    "\n",
    "qualitative = [f for f in test.columns if test.dtypes[f] == 'object']\n",
    "qualitative.remove('Loan_ID')"
   ]
  },
  {
   "cell_type": "code",
   "execution_count": 15,
   "id": "90393272",
   "metadata": {
    "scrolled": true
   },
   "outputs": [
    {
     "data": {
      "text/plain": [
       "['ApplicantIncome',\n",
       " 'CoapplicantIncome',\n",
       " 'LoanAmount',\n",
       " 'Loan_Amount_Term',\n",
       " 'TotalIncome',\n",
       " 'MonthlyIncome',\n",
       " 'MonthlyInstallment',\n",
       " 'LogApplicantIncome',\n",
       " 'LogCoApplicantIncome',\n",
       " 'LogLoanAmount',\n",
       " 'LogMonthlyInstallment',\n",
       " 'LogMonthlyIncome']"
      ]
     },
     "execution_count": 15,
     "metadata": {},
     "output_type": "execute_result"
    }
   ],
   "source": [
    "quantitative"
   ]
  },
  {
   "cell_type": "code",
   "execution_count": 16,
   "id": "ce8844cf",
   "metadata": {
    "scrolled": true
   },
   "outputs": [
    {
     "data": {
      "text/plain": [
       "['Gender',\n",
       " 'Married',\n",
       " 'Dependents',\n",
       " 'Education',\n",
       " 'Self_Employed',\n",
       " 'Credit_History',\n",
       " 'Property_Area',\n",
       " 'Affordability',\n",
       " 'ApplicantIncomeBracket',\n",
       " 'CoapplicantIncomeBracket',\n",
       " 'TotalIncomeBracket',\n",
       " 'LoanAmountBracket']"
      ]
     },
     "execution_count": 16,
     "metadata": {},
     "output_type": "execute_result"
    }
   ],
   "source": [
    "qualitative"
   ]
  },
  {
   "cell_type": "code",
   "execution_count": 17,
   "id": "9308604c",
   "metadata": {},
   "outputs": [
    {
     "data": {
      "text/html": [
       "<div>\n",
       "<style scoped>\n",
       "    .dataframe tbody tr th:only-of-type {\n",
       "        vertical-align: middle;\n",
       "    }\n",
       "\n",
       "    .dataframe tbody tr th {\n",
       "        vertical-align: top;\n",
       "    }\n",
       "\n",
       "    .dataframe thead th {\n",
       "        text-align: right;\n",
       "    }\n",
       "</style>\n",
       "<table border=\"1\" class=\"dataframe\">\n",
       "  <thead>\n",
       "    <tr style=\"text-align: right;\">\n",
       "      <th></th>\n",
       "      <th>Loan_ID</th>\n",
       "      <th>Gender</th>\n",
       "      <th>Married</th>\n",
       "      <th>Dependents</th>\n",
       "      <th>Education</th>\n",
       "      <th>Self_Employed</th>\n",
       "      <th>ApplicantIncome</th>\n",
       "      <th>CoapplicantIncome</th>\n",
       "      <th>LoanAmount</th>\n",
       "      <th>Loan_Amount_Term</th>\n",
       "      <th>Credit_History</th>\n",
       "      <th>Property_Area</th>\n",
       "      <th>TotalIncome</th>\n",
       "      <th>MonthlyIncome</th>\n",
       "      <th>MonthlyInstallment</th>\n",
       "      <th>Affordability</th>\n",
       "      <th>LogApplicantIncome</th>\n",
       "      <th>LogCoApplicantIncome</th>\n",
       "      <th>LogLoanAmount</th>\n",
       "      <th>LogMonthlyInstallment</th>\n",
       "      <th>LogMonthlyIncome</th>\n",
       "      <th>ApplicantIncomeBracket</th>\n",
       "      <th>CoapplicantIncomeBracket</th>\n",
       "      <th>TotalIncomeBracket</th>\n",
       "      <th>LoanAmountBracket</th>\n",
       "    </tr>\n",
       "  </thead>\n",
       "  <tbody>\n",
       "    <tr>\n",
       "      <th>0</th>\n",
       "      <td>LP001015</td>\n",
       "      <td>Male</td>\n",
       "      <td>Yes</td>\n",
       "      <td>0</td>\n",
       "      <td>Graduate</td>\n",
       "      <td>No</td>\n",
       "      <td>5720</td>\n",
       "      <td>0</td>\n",
       "      <td>110000.0</td>\n",
       "      <td>360.0</td>\n",
       "      <td>1.0</td>\n",
       "      <td>Urban</td>\n",
       "      <td>5720</td>\n",
       "      <td>476.666667</td>\n",
       "      <td>305.555556</td>\n",
       "      <td>Yes</td>\n",
       "      <td>8.651899</td>\n",
       "      <td>0.000000</td>\n",
       "      <td>11.608245</td>\n",
       "      <td>5.725399</td>\n",
       "      <td>6.168913</td>\n",
       "      <td>High_Applicant_Income</td>\n",
       "      <td>Low_CoApplicant_Income</td>\n",
       "      <td>High_Total_Income</td>\n",
       "      <td>Medium_Loan_Value</td>\n",
       "    </tr>\n",
       "    <tr>\n",
       "      <th>1</th>\n",
       "      <td>LP001022</td>\n",
       "      <td>Male</td>\n",
       "      <td>Yes</td>\n",
       "      <td>1</td>\n",
       "      <td>Graduate</td>\n",
       "      <td>No</td>\n",
       "      <td>3076</td>\n",
       "      <td>1500</td>\n",
       "      <td>126000.0</td>\n",
       "      <td>360.0</td>\n",
       "      <td>1.0</td>\n",
       "      <td>Urban</td>\n",
       "      <td>4576</td>\n",
       "      <td>381.333333</td>\n",
       "      <td>350.000000</td>\n",
       "      <td>Yes</td>\n",
       "      <td>8.031710</td>\n",
       "      <td>7.313887</td>\n",
       "      <td>11.744045</td>\n",
       "      <td>5.860786</td>\n",
       "      <td>5.946293</td>\n",
       "      <td>Medium_Applicant_Income</td>\n",
       "      <td>High_CoApplicant_Income</td>\n",
       "      <td>Medium_Total_Income</td>\n",
       "      <td>Medium_Loan_Value</td>\n",
       "    </tr>\n",
       "    <tr>\n",
       "      <th>2</th>\n",
       "      <td>LP001031</td>\n",
       "      <td>Male</td>\n",
       "      <td>Yes</td>\n",
       "      <td>2</td>\n",
       "      <td>Graduate</td>\n",
       "      <td>No</td>\n",
       "      <td>5000</td>\n",
       "      <td>1800</td>\n",
       "      <td>208000.0</td>\n",
       "      <td>360.0</td>\n",
       "      <td>1.0</td>\n",
       "      <td>Urban</td>\n",
       "      <td>6800</td>\n",
       "      <td>566.666667</td>\n",
       "      <td>577.777778</td>\n",
       "      <td>No</td>\n",
       "      <td>8.517393</td>\n",
       "      <td>7.496097</td>\n",
       "      <td>12.245298</td>\n",
       "      <td>6.360919</td>\n",
       "      <td>6.341534</td>\n",
       "      <td>High_Applicant_Income</td>\n",
       "      <td>High_CoApplicant_Income</td>\n",
       "      <td>High_Total_Income</td>\n",
       "      <td>Affluent_Loan_Value</td>\n",
       "    </tr>\n",
       "    <tr>\n",
       "      <th>3</th>\n",
       "      <td>LP001035</td>\n",
       "      <td>Male</td>\n",
       "      <td>Yes</td>\n",
       "      <td>2</td>\n",
       "      <td>Graduate</td>\n",
       "      <td>No</td>\n",
       "      <td>2340</td>\n",
       "      <td>2546</td>\n",
       "      <td>100000.0</td>\n",
       "      <td>360.0</td>\n",
       "      <td>1.0</td>\n",
       "      <td>Urban</td>\n",
       "      <td>4886</td>\n",
       "      <td>407.166667</td>\n",
       "      <td>277.777778</td>\n",
       "      <td>Yes</td>\n",
       "      <td>7.758333</td>\n",
       "      <td>7.842671</td>\n",
       "      <td>11.512935</td>\n",
       "      <td>5.630415</td>\n",
       "      <td>6.011676</td>\n",
       "      <td>Low_Applicant_Income</td>\n",
       "      <td>Affluent_CoApplicant_Income</td>\n",
       "      <td>Medium_Total_Income</td>\n",
       "      <td>Medium_Loan_Value</td>\n",
       "    </tr>\n",
       "    <tr>\n",
       "      <th>4</th>\n",
       "      <td>LP001051</td>\n",
       "      <td>Male</td>\n",
       "      <td>No</td>\n",
       "      <td>0</td>\n",
       "      <td>Not Graduate</td>\n",
       "      <td>No</td>\n",
       "      <td>3276</td>\n",
       "      <td>0</td>\n",
       "      <td>78000.0</td>\n",
       "      <td>360.0</td>\n",
       "      <td>1.0</td>\n",
       "      <td>Urban</td>\n",
       "      <td>3276</td>\n",
       "      <td>273.000000</td>\n",
       "      <td>216.666667</td>\n",
       "      <td>Yes</td>\n",
       "      <td>8.094684</td>\n",
       "      <td>0.000000</td>\n",
       "      <td>11.264477</td>\n",
       "      <td>5.382965</td>\n",
       "      <td>5.613128</td>\n",
       "      <td>Medium_Applicant_Income</td>\n",
       "      <td>Low_CoApplicant_Income</td>\n",
       "      <td>Low_Total_Income</td>\n",
       "      <td>Low_Loan_Value</td>\n",
       "    </tr>\n",
       "  </tbody>\n",
       "</table>\n",
       "</div>"
      ],
      "text/plain": [
       "    Loan_ID Gender Married Dependents     Education Self_Employed  \\\n",
       "0  LP001015   Male     Yes          0      Graduate            No   \n",
       "1  LP001022   Male     Yes          1      Graduate            No   \n",
       "2  LP001031   Male     Yes          2      Graduate            No   \n",
       "3  LP001035   Male     Yes          2      Graduate            No   \n",
       "4  LP001051   Male      No          0  Not Graduate            No   \n",
       "\n",
       "   ApplicantIncome  CoapplicantIncome  LoanAmount  Loan_Amount_Term  \\\n",
       "0             5720                  0    110000.0             360.0   \n",
       "1             3076               1500    126000.0             360.0   \n",
       "2             5000               1800    208000.0             360.0   \n",
       "3             2340               2546    100000.0             360.0   \n",
       "4             3276                  0     78000.0             360.0   \n",
       "\n",
       "  Credit_History Property_Area  TotalIncome  MonthlyIncome  \\\n",
       "0            1.0         Urban         5720     476.666667   \n",
       "1            1.0         Urban         4576     381.333333   \n",
       "2            1.0         Urban         6800     566.666667   \n",
       "3            1.0         Urban         4886     407.166667   \n",
       "4            1.0         Urban         3276     273.000000   \n",
       "\n",
       "   MonthlyInstallment Affordability  LogApplicantIncome  LogCoApplicantIncome  \\\n",
       "0          305.555556           Yes            8.651899              0.000000   \n",
       "1          350.000000           Yes            8.031710              7.313887   \n",
       "2          577.777778            No            8.517393              7.496097   \n",
       "3          277.777778           Yes            7.758333              7.842671   \n",
       "4          216.666667           Yes            8.094684              0.000000   \n",
       "\n",
       "   LogLoanAmount  LogMonthlyInstallment  LogMonthlyIncome  \\\n",
       "0      11.608245               5.725399          6.168913   \n",
       "1      11.744045               5.860786          5.946293   \n",
       "2      12.245298               6.360919          6.341534   \n",
       "3      11.512935               5.630415          6.011676   \n",
       "4      11.264477               5.382965          5.613128   \n",
       "\n",
       "    ApplicantIncomeBracket     CoapplicantIncomeBracket   TotalIncomeBracket  \\\n",
       "0    High_Applicant_Income       Low_CoApplicant_Income    High_Total_Income   \n",
       "1  Medium_Applicant_Income      High_CoApplicant_Income  Medium_Total_Income   \n",
       "2    High_Applicant_Income      High_CoApplicant_Income    High_Total_Income   \n",
       "3     Low_Applicant_Income  Affluent_CoApplicant_Income  Medium_Total_Income   \n",
       "4  Medium_Applicant_Income       Low_CoApplicant_Income     Low_Total_Income   \n",
       "\n",
       "     LoanAmountBracket  \n",
       "0    Medium_Loan_Value  \n",
       "1    Medium_Loan_Value  \n",
       "2  Affluent_Loan_Value  \n",
       "3    Medium_Loan_Value  \n",
       "4       Low_Loan_Value  "
      ]
     },
     "execution_count": 17,
     "metadata": {},
     "output_type": "execute_result"
    }
   ],
   "source": [
    "test.head()"
   ]
  },
  {
   "cell_type": "code",
   "execution_count": 18,
   "id": "d0636f26",
   "metadata": {},
   "outputs": [],
   "source": [
    "#scale the dataset\n",
    "#scaler = StandardScaler()\n",
    "#test_clean[quantitative] = scaler.fit_transform(test_clean[quantitative])"
   ]
  },
  {
   "cell_type": "code",
   "execution_count": 19,
   "id": "fb5b3db4",
   "metadata": {},
   "outputs": [
    {
     "data": {
      "text/plain": [
       "Loan_ID                      object\n",
       "Gender                       object\n",
       "Married                      object\n",
       "Dependents                   object\n",
       "Education                    object\n",
       "Self_Employed                object\n",
       "ApplicantIncome               int64\n",
       "CoapplicantIncome             int64\n",
       "LoanAmount                  float64\n",
       "Loan_Amount_Term            float64\n",
       "Credit_History               object\n",
       "Property_Area                object\n",
       "TotalIncome                   int64\n",
       "MonthlyIncome               float64\n",
       "MonthlyInstallment          float64\n",
       "Affordability                object\n",
       "LogApplicantIncome          float64\n",
       "LogCoApplicantIncome        float64\n",
       "LogLoanAmount               float64\n",
       "LogMonthlyInstallment       float64\n",
       "LogMonthlyIncome            float64\n",
       "ApplicantIncomeBracket       object\n",
       "CoapplicantIncomeBracket     object\n",
       "TotalIncomeBracket           object\n",
       "LoanAmountBracket            object\n",
       "dtype: object"
      ]
     },
     "execution_count": 19,
     "metadata": {},
     "output_type": "execute_result"
    }
   ],
   "source": [
    "test.dtypes"
   ]
  },
  {
   "cell_type": "code",
   "execution_count": 20,
   "id": "98a4c7cd",
   "metadata": {},
   "outputs": [],
   "source": [
    "#get dummies\n",
    "#test_clean = pd.get_dummies(test_clean)"
   ]
  },
  {
   "cell_type": "code",
   "execution_count": 21,
   "id": "c64852d5",
   "metadata": {},
   "outputs": [
    {
     "name": "stdout",
     "output_type": "stream",
     "text": [
      "['Gender_E', 'Married_E', 'Dependents_E', 'Education_E', 'Self_Employed_E', 'Credit_History_E', 'Property_Area_E', 'Affordability_E', 'ApplicantIncomeBracket_E', 'CoapplicantIncomeBracket_E', 'TotalIncomeBracket_E', 'LoanAmountBracket_E']\n"
     ]
    }
   ],
   "source": [
    "#encoding the categorical variables\n",
    "def encode(frame, feature):\n",
    "    ordering = pd.DataFrame()\n",
    "    ordering['val'] = frame[feature].unique()\n",
    "    ordering.index = ordering.val\n",
    "    ordering['ordering'] = range(1, ordering.shape[0]+1)\n",
    "    ordering = ordering['ordering'].to_dict()\n",
    "    \n",
    "    for cat, o in ordering.items():\n",
    "        frame.loc[frame[feature] == cat, feature+'_E'] = o\n",
    "    \n",
    "qual_encoded = []\n",
    "for q in qualitative:  \n",
    "    encode(test, q)\n",
    "    qual_encoded.append(q+'_E')\n",
    "print(qual_encoded)"
   ]
  },
  {
   "cell_type": "code",
   "execution_count": 22,
   "id": "6c802325",
   "metadata": {},
   "outputs": [],
   "source": [
    "#drop unnecessary columns\n",
    "submission = test[['Loan_ID']]\n",
    "\n",
    "test_clean = test.drop(['Loan_ID', 'Gender', 'Married', 'Dependents', 'Education', 'Self_Employed', 'Credit_History',\n",
    "                          'Property_Area', 'ApplicantIncomeBracket', 'CoapplicantIncomeBracket', 'TotalIncomeBracket',\n",
    "                          'LoanAmountBracket', 'Affordability', 'ApplicantIncome', 'CoapplicantIncome',\n",
    "                         'LoanAmount', 'Loan_Amount_Term', 'TotalIncome', 'MonthlyIncome', 'MonthlyInstallment'], axis = 1)"
   ]
  },
  {
   "cell_type": "code",
   "execution_count": 23,
   "id": "9e63a819",
   "metadata": {},
   "outputs": [],
   "source": [
    "train_columns = ['Loan_Status', 'LogApplicantIncome', 'LogCoApplicantIncome',\n",
    "       'LogMonthlyIncome', 'LogLoanAmount', 'LogMonthlyInstallment',\n",
    "       'Gender_E', 'Married_E', 'Dependents_E', 'Education_E',\n",
    "       'Self_Employed_E', 'Credit_History_E', 'Property_Area_E',\n",
    "       'ApplicantIncomeBracket_E', 'CoapplicantIncomeBracket_E',\n",
    "       'TotalIncomeBracket_E', 'LoanAmountBracket_E', 'Affordability_E']"
   ]
  },
  {
   "cell_type": "code",
   "execution_count": 24,
   "id": "fe352c04",
   "metadata": {},
   "outputs": [
    {
     "data": {
      "text/plain": [
       "['Loan_Status']"
      ]
     },
     "execution_count": 24,
     "metadata": {},
     "output_type": "execute_result"
    }
   ],
   "source": [
    "expected_columns = [i for i in train_columns  if i not in test_clean.columns]\n",
    "expected_columns"
   ]
  },
  {
   "cell_type": "code",
   "execution_count": 25,
   "id": "a1b9d9b5",
   "metadata": {},
   "outputs": [
    {
     "data": {
      "text/plain": [
       "LogApplicantIncome            0\n",
       "LogCoApplicantIncome          0\n",
       "LogLoanAmount                 0\n",
       "LogMonthlyInstallment         0\n",
       "LogMonthlyIncome              0\n",
       "Gender_E                      0\n",
       "Married_E                     0\n",
       "Dependents_E                  0\n",
       "Education_E                   0\n",
       "Self_Employed_E               0\n",
       "Credit_History_E              0\n",
       "Property_Area_E               0\n",
       "Affordability_E               0\n",
       "ApplicantIncomeBracket_E      0\n",
       "CoapplicantIncomeBracket_E    0\n",
       "TotalIncomeBracket_E          0\n",
       "LoanAmountBracket_E           0\n",
       "dtype: int64"
      ]
     },
     "execution_count": 25,
     "metadata": {},
     "output_type": "execute_result"
    }
   ],
   "source": [
    "test_clean.isnull().sum()"
   ]
  },
  {
   "cell_type": "code",
   "execution_count": 26,
   "id": "e43a809d",
   "metadata": {},
   "outputs": [
    {
     "data": {
      "text/plain": [
       "(367, 17)"
      ]
     },
     "execution_count": 26,
     "metadata": {},
     "output_type": "execute_result"
    }
   ],
   "source": [
    "test_clean.shape"
   ]
  },
  {
   "cell_type": "code",
   "execution_count": 27,
   "id": "f407486d",
   "metadata": {},
   "outputs": [
    {
     "data": {
      "text/html": [
       "<div>\n",
       "<style scoped>\n",
       "    .dataframe tbody tr th:only-of-type {\n",
       "        vertical-align: middle;\n",
       "    }\n",
       "\n",
       "    .dataframe tbody tr th {\n",
       "        vertical-align: top;\n",
       "    }\n",
       "\n",
       "    .dataframe thead th {\n",
       "        text-align: right;\n",
       "    }\n",
       "</style>\n",
       "<table border=\"1\" class=\"dataframe\">\n",
       "  <thead>\n",
       "    <tr style=\"text-align: right;\">\n",
       "      <th></th>\n",
       "      <th>Loan_ID</th>\n",
       "    </tr>\n",
       "  </thead>\n",
       "  <tbody>\n",
       "    <tr>\n",
       "      <th>0</th>\n",
       "      <td>LP001015</td>\n",
       "    </tr>\n",
       "    <tr>\n",
       "      <th>1</th>\n",
       "      <td>LP001022</td>\n",
       "    </tr>\n",
       "    <tr>\n",
       "      <th>2</th>\n",
       "      <td>LP001031</td>\n",
       "    </tr>\n",
       "    <tr>\n",
       "      <th>3</th>\n",
       "      <td>LP001035</td>\n",
       "    </tr>\n",
       "    <tr>\n",
       "      <th>4</th>\n",
       "      <td>LP001051</td>\n",
       "    </tr>\n",
       "  </tbody>\n",
       "</table>\n",
       "</div>"
      ],
      "text/plain": [
       "    Loan_ID\n",
       "0  LP001015\n",
       "1  LP001022\n",
       "2  LP001031\n",
       "3  LP001035\n",
       "4  LP001051"
      ]
     },
     "execution_count": 27,
     "metadata": {},
     "output_type": "execute_result"
    }
   ],
   "source": [
    "submission.head()"
   ]
  },
  {
   "cell_type": "markdown",
   "id": "f9d462d6",
   "metadata": {},
   "source": [
    "### Apply models"
   ]
  },
  {
   "cell_type": "code",
   "execution_count": 28,
   "id": "195ad30b",
   "metadata": {},
   "outputs": [
    {
     "name": "stderr",
     "output_type": "stream",
     "text": [
      "C:\\Users\\hp\\AppData\\Roaming\\Python\\Python38\\site-packages\\sklearn\\base.py:488: FutureWarning: The feature names should match those that were passed during fit. Starting version 1.2, an error will be raised.\n",
      "Feature names must be in the same order as they were in fit.\n",
      "\n",
      "  warnings.warn(message, FutureWarning)\n",
      "<ipython-input-28-cdc9f363d7ff>:25: SettingWithCopyWarning: \n",
      "A value is trying to be set on a copy of a slice from a DataFrame.\n",
      "Try using .loc[row_indexer,col_indexer] = value instead\n",
      "\n",
      "See the caveats in the documentation: https://pandas.pydata.org/pandas-docs/stable/user_guide/indexing.html#returning-a-view-versus-a-copy\n",
      "  submission[model_name] = prediction\n"
     ]
    }
   ],
   "source": [
    "#get the pickle model files\n",
    "os.chdir(\"../models\")\n",
    "\n",
    "#model number counter\n",
    "i = 1\n",
    "\n",
    "for file in glob.glob(\"*.pkl\"):\n",
    "    \n",
    "    with open(\"../models/\" + file, \"rb\") as file:\n",
    "        model = pickle.load(file)\n",
    "        \n",
    "    #get the model name\n",
    "    model_name = str(file).split(\"/\")[2].split(\".\")[0]\n",
    "    \n",
    "    #for now just run the logistic regression model\n",
    "    if model_name == 'RF':\n",
    "    \n",
    "        #do the prediction with this model\n",
    "        prediction = model.predict(test_clean)\n",
    "        \n",
    "        #replace the 1s and 0s predicted with Y and N\n",
    "        prediction = np.where(prediction == 1, 'N', 'Y')\n",
    "\n",
    "        #create a column for this model's run and its predictions\n",
    "        submission[model_name] = prediction\n",
    "    \n",
    "    file.close()"
   ]
  },
  {
   "cell_type": "code",
   "execution_count": 29,
   "id": "73cfe34d",
   "metadata": {},
   "outputs": [],
   "source": [
    "#change column names for submission\n",
    "submission.columns = ['Loan_ID', 'Loan_Status']"
   ]
  },
  {
   "cell_type": "code",
   "execution_count": 30,
   "id": "cb2f6f0f",
   "metadata": {},
   "outputs": [
    {
     "data": {
      "text/html": [
       "<div>\n",
       "<style scoped>\n",
       "    .dataframe tbody tr th:only-of-type {\n",
       "        vertical-align: middle;\n",
       "    }\n",
       "\n",
       "    .dataframe tbody tr th {\n",
       "        vertical-align: top;\n",
       "    }\n",
       "\n",
       "    .dataframe thead th {\n",
       "        text-align: right;\n",
       "    }\n",
       "</style>\n",
       "<table border=\"1\" class=\"dataframe\">\n",
       "  <thead>\n",
       "    <tr style=\"text-align: right;\">\n",
       "      <th></th>\n",
       "      <th>Loan_ID</th>\n",
       "      <th>Loan_Status</th>\n",
       "    </tr>\n",
       "  </thead>\n",
       "  <tbody>\n",
       "    <tr>\n",
       "      <th>0</th>\n",
       "      <td>LP001015</td>\n",
       "      <td>Y</td>\n",
       "    </tr>\n",
       "    <tr>\n",
       "      <th>1</th>\n",
       "      <td>LP001022</td>\n",
       "      <td>Y</td>\n",
       "    </tr>\n",
       "    <tr>\n",
       "      <th>2</th>\n",
       "      <td>LP001031</td>\n",
       "      <td>Y</td>\n",
       "    </tr>\n",
       "    <tr>\n",
       "      <th>3</th>\n",
       "      <td>LP001035</td>\n",
       "      <td>N</td>\n",
       "    </tr>\n",
       "    <tr>\n",
       "      <th>4</th>\n",
       "      <td>LP001051</td>\n",
       "      <td>Y</td>\n",
       "    </tr>\n",
       "  </tbody>\n",
       "</table>\n",
       "</div>"
      ],
      "text/plain": [
       "    Loan_ID Loan_Status\n",
       "0  LP001015           Y\n",
       "1  LP001022           Y\n",
       "2  LP001031           Y\n",
       "3  LP001035           N\n",
       "4  LP001051           Y"
      ]
     },
     "execution_count": 30,
     "metadata": {},
     "output_type": "execute_result"
    }
   ],
   "source": [
    "submission.head()"
   ]
  },
  {
   "cell_type": "code",
   "execution_count": 31,
   "id": "45dfb28e",
   "metadata": {},
   "outputs": [],
   "source": [
    "#write a csv for this submission\n",
    "submission.to_csv(\"../data/submission.csv\", index = False)"
   ]
  },
  {
   "cell_type": "code",
   "execution_count": null,
   "id": "34ca0127",
   "metadata": {},
   "outputs": [],
   "source": []
  }
 ],
 "metadata": {
  "kernelspec": {
   "display_name": "Python 3",
   "language": "python",
   "name": "python3"
  },
  "language_info": {
   "codemirror_mode": {
    "name": "ipython",
    "version": 3
   },
   "file_extension": ".py",
   "mimetype": "text/x-python",
   "name": "python",
   "nbconvert_exporter": "python",
   "pygments_lexer": "ipython3",
   "version": "3.8.8"
  }
 },
 "nbformat": 4,
 "nbformat_minor": 5
}
